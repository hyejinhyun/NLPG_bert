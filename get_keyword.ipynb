{
 "cells": [
  {
   "cell_type": "code",
   "execution_count": 20,
   "metadata": {},
   "outputs": [
    {
     "name": "stderr",
     "output_type": "stream",
     "text": [
      "[nltk_data] Downloading package stopwords to\n",
      "[nltk_data]     C:\\Users\\user\\AppData\\Roaming\\nltk_data...\n",
      "[nltk_data]   Package stopwords is already up-to-date!\n"
     ]
    },
    {
     "data": {
      "text/plain": [
       "True"
      ]
     },
     "execution_count": 20,
     "metadata": {},
     "output_type": "execute_result"
    }
   ],
   "source": [
    "from sklearn.feature_extraction.text import TfidfVectorizer\n",
    "from sklearn.feature_extraction.text import CountVectorizer\n",
    "from sklearn.preprocessing import normalize\n",
    "import numpy as np\n",
    "from nltk.corpus import stopwords \n",
    "\n",
    "from transformers import BertTokenizer\n",
    "\n",
    "import nltk\n",
    "nltk.download('stopwords')"
   ]
  },
  {
   "cell_type": "code",
   "execution_count": 21,
   "metadata": {},
   "outputs": [],
   "source": [
    "class SentenceTokenizer(object):\n",
    "    def __init__(self):\n",
    "        self.stopwords = set(stopwords.words('english')) \n",
    "    \n",
    "    def get_tokens(self, sentences):\n",
    "        tokenizer = BertTokenizer(vocab_file='bert-base-uncased-vocab.txt')\n",
    "        tokens = tokenizer.tokenize(sentences)  # word_piece_list\n",
    "        \n",
    "        # tokens = word_tokenize(sentences) #요부분!! 들어온 text를 단어로 쪼개는 부분만 바꿔주면 됨!!\n",
    "        \n",
    "        #이건 불용어 빼주는 작업\n",
    "        tr_tk = []\n",
    "        \n",
    "        for w in tokens:\n",
    "            if w not in self.stopwords:\n",
    "                tr_tk.append(w)\n",
    "\n",
    "        print(tr_tk)\n",
    "        return tr_tk"
   ]
  },
  {
   "cell_type": "code",
   "execution_count": 22,
   "metadata": {},
   "outputs": [],
   "source": [
    "class GraphMatrix(object):\n",
    "    def __init__(self):\n",
    "        self.tfidf = TfidfVectorizer()\n",
    "        self.cnt_vec = CountVectorizer()\n",
    "        self.graph_sentence = []\n",
    "\n",
    "    def build_words_graph(self, sentence):\n",
    "        cnt_vec_mat = normalize(self.cnt_vec.fit_transform(sentence).toarray().astype(float), axis=0)\n",
    "        vocab = self.cnt_vec.vocabulary_\n",
    "        return np.dot(cnt_vec_mat.T, cnt_vec_mat), {vocab[word] : word for word in vocab}"
   ]
  },
  {
   "cell_type": "code",
   "execution_count": 23,
   "metadata": {},
   "outputs": [],
   "source": [
    "class Rank(object):\n",
    "    def get_ranks(self, graph, d=0.85): # d = damping factor\n",
    "        A = graph\n",
    "        matrix_size = A.shape[0]\n",
    "        for id in range(matrix_size):\n",
    "            A[id, id] = 0 # diagonal 부분을 0으로\n",
    "            link_sum = np.sum(A[:,id]) # A[:, id] = A[:][id]\n",
    "            if link_sum != 0:\n",
    "                A[:, id] /= link_sum\n",
    "            A[:, id] *= -d\n",
    "            A[id, id] = 1\n",
    "\n",
    "        B = (1-d) * np.ones((matrix_size, 1))\n",
    "        ranks = np.linalg.solve(A, B) # 연립방정식 Ax = b\n",
    "        return {idx: r[0] for idx, r in enumerate(ranks)}"
   ]
  },
  {
   "cell_type": "code",
   "execution_count": 24,
   "metadata": {},
   "outputs": [],
   "source": [
    "class TextRank(object):\n",
    "    def get_keyword(self, text, word_num=1):\n",
    "\n",
    "        tokens = SentenceTokenizer().get_tokens(text)\n",
    "        words_graph, idx2word = GraphMatrix().build_words_graph(tokens)\n",
    "        \n",
    "        rank = Rank()\n",
    "        rank_idx = rank.get_ranks(words_graph)\n",
    "        sorted_rank_idx = sorted(rank_idx, key=lambda k: rank_idx[k], reverse=True)\n",
    "\n",
    "        keywords = []\n",
    "        index=[]\n",
    "        for idx in sorted_rank_idx[:word_num]:\n",
    "            index.append(idx)\n",
    "\n",
    "        for idx in index:\n",
    "            keywords.append(idx2word[idx])\n",
    "        \n",
    "        return keywords"
   ]
  },
  {
   "cell_type": "code",
   "execution_count": 27,
   "metadata": {},
   "outputs": [
    {
     "name": "stdout",
     "output_type": "stream",
     "text": [
      "['identify', 'victims', 'massacre', ',', 'find', 'military', 'fired', 'machine', '-', 'guns', 'helicopters', 'distortion', 'cover', '-', 'maneuver', '##ing', 'carried', ',', '\"', 'said', '.', '\"', 'purpose', 'investigation', 'punish', 'responsible', 'people', ',', 'seek', 'reconciliation', 'unity', 'based', 'truth', '.']\n",
      "['based']\n"
     ]
    }
   ],
   "source": [
    "text = 'We should identify all the victims of the massacre, and find out how the military fired machine-guns from helicopters and how the distortion and cover-up maneuvering were carried out,\" he said. \"The purpose of the investigation is not to punish the responsible people, but to seek reconciliation and unity based on truth.'\n",
    "\n",
    "result = TextRank().get_keyword(text)\n",
    "print(result)"
   ]
  },
  {
   "cell_type": "code",
   "execution_count": null,
   "metadata": {},
   "outputs": [],
   "source": []
  },
  {
   "cell_type": "code",
   "execution_count": null,
   "metadata": {},
   "outputs": [],
   "source": []
  },
  {
   "cell_type": "code",
   "execution_count": null,
   "metadata": {},
   "outputs": [],
   "source": []
  }
 ],
 "metadata": {
  "kernelspec": {
   "display_name": "Python 3",
   "language": "python",
   "name": "python3"
  },
  "language_info": {
   "codemirror_mode": {
    "name": "ipython",
    "version": 3
   },
   "file_extension": ".py",
   "mimetype": "text/x-python",
   "name": "python",
   "nbconvert_exporter": "python",
   "pygments_lexer": "ipython3",
   "version": "3.7.7"
  }
 },
 "nbformat": 4,
 "nbformat_minor": 4
}
