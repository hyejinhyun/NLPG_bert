{
 "cells": [
  {
   "cell_type": "code",
   "execution_count": 20,
   "metadata": {},
   "outputs": [],
   "source": [
    "import tensorflow as tf\n",
    "import numpy as np\n",
    "import csv\n",
    "\n",
    "import pandas as pd"
   ]
  },
  {
   "cell_type": "code",
   "execution_count": 21,
   "metadata": {},
   "outputs": [],
   "source": [
    "def create_correlation_matrix(prob_of_sentences):\n",
    "    # print(\"create_correlation_matrix\")\n",
    "    num_sentences = 4\n",
    "    correlation_matrix = np.empty(shape=(num_sentences, num_sentences), dtype=float, order='C')\n",
    "    index=0\n",
    "    for i in range(num_sentences):\n",
    "        for j in range(num_sentences):\n",
    "            if i==j:\n",
    "                correlation_matrix[i][j]=0\n",
    "            else:\n",
    "                correlation_matrix[i][j] = prob_of_sentences[index]\n",
    "            \n",
    "            index+=1\n",
    "    return correlation_matrix"
   ]
  },
  {
   "cell_type": "code",
   "execution_count": 22,
   "metadata": {},
   "outputs": [],
   "source": [
    "def reorder_sentences(prob_of_sentences):\n",
    "    # print(\"reorder_sentences\")\n",
    "    ordering = []\n",
    "    correlation_matrix = create_correlation_matrix(prob_of_sentences)\n",
    "    # print(correlation_matrix)\n",
    "    \n",
    "    hint = None\n",
    "    while correlation_matrix.any():\n",
    "        # print(correlation_matrix)\n",
    "        if hint == None:\n",
    "            ind = np.unravel_index(np.argmax(correlation_matrix[0, :], axis=None), correlation_matrix.shape)\n",
    "        else:\n",
    "            ind = np.unravel_index(np.argmax(correlation_matrix[hint,:], axis=None), correlation_matrix[hint,:].shape)\n",
    "            ind = (hint, ind[0])\n",
    "        # print(ind)\n",
    "        hint = ind[1]    \n",
    "        correlation_matrix[ind[0], :] = 0\n",
    "        correlation_matrix[:, ind[0]] = 0\n",
    "        # print(hint)\n",
    "        # print(correlation_matrix)\n",
    "        \n",
    "        ordering.append(ind[0])\n",
    "    ordering.append(ind[1])    \n",
    "    return ordering"
   ]
  },
  {
   "cell_type": "code",
   "execution_count": 23,
   "metadata": {},
   "outputs": [],
   "source": [
    "def create_all_sentences(sentences_file):\n",
    "    with tf.gfile.Open(sentences_file, \"r\") as f:\n",
    "        reader = csv.reader(f, delimiter=\"\\t\", quotechar=None)\n",
    "        lines=[]\n",
    "        for line in reader:\n",
    "            lines.append(line)\n",
    "        return lines"
   ]
  },
  {
   "cell_type": "code",
   "execution_count": 24,
   "metadata": {},
   "outputs": [],
   "source": [
    "def create_prob(prob_file, probs):\n",
    "    dataset = pd.read_csv(prob_file, delimiter = '\\t')  # tsv 칼럼명 붙여줘야 함\n",
    "    \n",
    "    for prob in dataset.True_prob:\n",
    "        probs.append(prob)"
   ]
  },
  {
   "cell_type": "code",
   "execution_count": 25,
   "metadata": {},
   "outputs": [],
   "source": [
    "#dataset = pd.read_csv(\"test.tsv\", delimiter = '\\t')\n",
    "dataset = pd.read_csv(\"test_results.tsv\", delimiter = '\\t')"
   ]
  },
  {
   "cell_type": "code",
   "execution_count": 19,
   "metadata": {},
   "outputs": [
    {
     "data": {
      "text/html": [
       "<div>\n",
       "<style scoped>\n",
       "    .dataframe tbody tr th:only-of-type {\n",
       "        vertical-align: middle;\n",
       "    }\n",
       "\n",
       "    .dataframe tbody tr th {\n",
       "        vertical-align: top;\n",
       "    }\n",
       "\n",
       "    .dataframe thead th {\n",
       "        text-align: right;\n",
       "    }\n",
       "</style>\n",
       "<table border=\"1\" class=\"dataframe\">\n",
       "  <thead>\n",
       "    <tr style=\"text-align: right;\">\n",
       "      <th></th>\n",
       "      <th>True_prob</th>\n",
       "      <th>False_prob</th>\n",
       "    </tr>\n",
       "  </thead>\n",
       "  <tbody>\n",
       "    <tr>\n",
       "      <th>0</th>\n",
       "      <td>0.510609</td>\n",
       "      <td>0.489391</td>\n",
       "    </tr>\n",
       "    <tr>\n",
       "      <th>1</th>\n",
       "      <td>0.511671</td>\n",
       "      <td>0.488329</td>\n",
       "    </tr>\n",
       "    <tr>\n",
       "      <th>2</th>\n",
       "      <td>0.505276</td>\n",
       "      <td>0.494724</td>\n",
       "    </tr>\n",
       "    <tr>\n",
       "      <th>3</th>\n",
       "      <td>0.507776</td>\n",
       "      <td>0.492225</td>\n",
       "    </tr>\n",
       "    <tr>\n",
       "      <th>4</th>\n",
       "      <td>0.497947</td>\n",
       "      <td>0.502053</td>\n",
       "    </tr>\n",
       "    <tr>\n",
       "      <th>...</th>\n",
       "      <td>...</td>\n",
       "      <td>...</td>\n",
       "    </tr>\n",
       "    <tr>\n",
       "      <th>75</th>\n",
       "      <td>0.512735</td>\n",
       "      <td>0.487265</td>\n",
       "    </tr>\n",
       "    <tr>\n",
       "      <th>76</th>\n",
       "      <td>0.508551</td>\n",
       "      <td>0.491449</td>\n",
       "    </tr>\n",
       "    <tr>\n",
       "      <th>77</th>\n",
       "      <td>0.508274</td>\n",
       "      <td>0.491726</td>\n",
       "    </tr>\n",
       "    <tr>\n",
       "      <th>78</th>\n",
       "      <td>0.511109</td>\n",
       "      <td>0.488890</td>\n",
       "    </tr>\n",
       "    <tr>\n",
       "      <th>79</th>\n",
       "      <td>0.516941</td>\n",
       "      <td>0.483059</td>\n",
       "    </tr>\n",
       "  </tbody>\n",
       "</table>\n",
       "<p>80 rows × 2 columns</p>\n",
       "</div>"
      ],
      "text/plain": [
       "    True_prob  False_prob\n",
       "0    0.510609    0.489391\n",
       "1    0.511671    0.488329\n",
       "2    0.505276    0.494724\n",
       "3    0.507776    0.492225\n",
       "4    0.497947    0.502053\n",
       "..        ...         ...\n",
       "75   0.512735    0.487265\n",
       "76   0.508551    0.491449\n",
       "77   0.508274    0.491726\n",
       "78   0.511109    0.488890\n",
       "79   0.516941    0.483059\n",
       "\n",
       "[80 rows x 2 columns]"
      ]
     },
     "execution_count": 19,
     "metadata": {},
     "output_type": "execute_result"
    }
   ],
   "source": [
    "dataset"
   ]
  },
  {
   "cell_type": "code",
   "execution_count": 26,
   "metadata": {},
   "outputs": [],
   "source": [
    "probs=[]\n",
    "ordering_result = []\n",
    "create_prob(\"test_results.tsv\", probs)"
   ]
  },
  {
   "cell_type": "code",
   "execution_count": 27,
   "metadata": {
    "scrolled": true
   },
   "outputs": [
    {
     "name": "stdout",
     "output_type": "stream",
     "text": [
      "[0, 1, 3, 2]\n",
      "[0, 1, 2, 3]\n",
      "[0, 2, 3, 1]\n",
      "[0, 3, 2, 1]\n",
      "[0, 3, 2, 1]\n"
     ]
    }
   ],
   "source": [
    "for i in range(len(probs)//16):  \n",
    "    prob_of_sentences=probs[i*16:i*16+16]\n",
    "    ordering = reorder_sentences(prob_of_sentences)\n",
    "    print(ordering)\n",
    "    ordering_result.append(ordering)"
   ]
  },
  {
   "cell_type": "code",
   "execution_count": 28,
   "metadata": {},
   "outputs": [
    {
     "name": "stdout",
     "output_type": "stream",
     "text": [
      "80\n"
     ]
    }
   ],
   "source": [
    "print(len(probs))"
   ]
  },
  {
   "cell_type": "code",
   "execution_count": 185,
   "metadata": {},
   "outputs": [
    {
     "name": "stdout",
     "output_type": "stream",
     "text": [
      "[0, 2, 3, 1]\n"
     ]
    }
   ],
   "source": [
    "print(ordering_result[0])"
   ]
  },
  {
   "cell_type": "code",
   "execution_count": 29,
   "metadata": {},
   "outputs": [],
   "source": [
    "with open('test_results_ordering.tsv', 'wt', -1, \"utf-8\") as out_file:\n",
    "    tsv_writer = csv.writer(out_file, delimiter='\\t')\n",
    "    tsv_writer.writerow(['ordering'])\n",
    "    \n",
    "    for i in range(len(ordering_result)):\n",
    "        order_results = ordering_result[i]\n",
    "        \n",
    "        tsv_writer.writerow([order_results])"
   ]
  },
  {
   "cell_type": "code",
   "execution_count": null,
   "metadata": {},
   "outputs": [],
   "source": [
    "for i in range(ordering_result):\n",
    "    if ordering_result[i]==\"[0, 1, 2, 3]\":\n",
    "        #이 i를 가지고 prob을 뽑아오면 되겠군\n",
    "        right_order_prob=probs[i*16:i*16]\n",
    "        prob_0_1=right_order_prob[1]\n",
    "        prob_1_2=right_order_prob[6]\n",
    "        prob_1_2=right_order_prob[6]\n",
    "        prob_1_2=right_order_prob[6]\n",
    "        "
   ]
  },
  {
   "cell_type": "code",
   "execution_count": null,
   "metadata": {},
   "outputs": [],
   "source": []
  },
  {
   "cell_type": "code",
   "execution_count": 30,
   "metadata": {
    "scrolled": true
   },
   "outputs": [
    {
     "data": {
      "text/html": [
       "<div>\n",
       "<style scoped>\n",
       "    .dataframe tbody tr th:only-of-type {\n",
       "        vertical-align: middle;\n",
       "    }\n",
       "\n",
       "    .dataframe tbody tr th {\n",
       "        vertical-align: top;\n",
       "    }\n",
       "\n",
       "    .dataframe thead th {\n",
       "        text-align: right;\n",
       "    }\n",
       "</style>\n",
       "<table border=\"1\" class=\"dataframe\">\n",
       "  <thead>\n",
       "    <tr style=\"text-align: right;\">\n",
       "      <th></th>\n",
       "      <th>True_prob</th>\n",
       "      <th>False_prob</th>\n",
       "    </tr>\n",
       "  </thead>\n",
       "  <tbody>\n",
       "    <tr>\n",
       "      <th>0</th>\n",
       "      <td>0.510609</td>\n",
       "      <td>0.489391</td>\n",
       "    </tr>\n",
       "    <tr>\n",
       "      <th>1</th>\n",
       "      <td>0.511671</td>\n",
       "      <td>0.488329</td>\n",
       "    </tr>\n",
       "    <tr>\n",
       "      <th>2</th>\n",
       "      <td>0.505276</td>\n",
       "      <td>0.494724</td>\n",
       "    </tr>\n",
       "    <tr>\n",
       "      <th>3</th>\n",
       "      <td>0.507776</td>\n",
       "      <td>0.492225</td>\n",
       "    </tr>\n",
       "    <tr>\n",
       "      <th>4</th>\n",
       "      <td>0.497947</td>\n",
       "      <td>0.502053</td>\n",
       "    </tr>\n",
       "    <tr>\n",
       "      <th>...</th>\n",
       "      <td>...</td>\n",
       "      <td>...</td>\n",
       "    </tr>\n",
       "    <tr>\n",
       "      <th>75</th>\n",
       "      <td>0.512735</td>\n",
       "      <td>0.487265</td>\n",
       "    </tr>\n",
       "    <tr>\n",
       "      <th>76</th>\n",
       "      <td>0.508551</td>\n",
       "      <td>0.491449</td>\n",
       "    </tr>\n",
       "    <tr>\n",
       "      <th>77</th>\n",
       "      <td>0.508274</td>\n",
       "      <td>0.491726</td>\n",
       "    </tr>\n",
       "    <tr>\n",
       "      <th>78</th>\n",
       "      <td>0.511109</td>\n",
       "      <td>0.488890</td>\n",
       "    </tr>\n",
       "    <tr>\n",
       "      <th>79</th>\n",
       "      <td>0.516941</td>\n",
       "      <td>0.483059</td>\n",
       "    </tr>\n",
       "  </tbody>\n",
       "</table>\n",
       "<p>80 rows × 2 columns</p>\n",
       "</div>"
      ],
      "text/plain": [
       "    True_prob  False_prob\n",
       "0    0.510609    0.489391\n",
       "1    0.511671    0.488329\n",
       "2    0.505276    0.494724\n",
       "3    0.507776    0.492225\n",
       "4    0.497947    0.502053\n",
       "..        ...         ...\n",
       "75   0.512735    0.487265\n",
       "76   0.508551    0.491449\n",
       "77   0.508274    0.491726\n",
       "78   0.511109    0.488890\n",
       "79   0.516941    0.483059\n",
       "\n",
       "[80 rows x 2 columns]"
      ]
     },
     "execution_count": 30,
     "metadata": {},
     "output_type": "execute_result"
    }
   ],
   "source": [
    "dataset = pd.read_csv(\"test_results.tsv\", delimiter = '\\t')\n",
    "dataset"
   ]
  },
  {
   "cell_type": "code",
   "execution_count": 35,
   "metadata": {},
   "outputs": [
    {
     "data": {
      "text/plain": [
       "0.51167077"
      ]
     },
     "execution_count": 35,
     "metadata": {},
     "output_type": "execute_result"
    }
   ],
   "source": [
    "dataset.True_prob[1]"
   ]
  },
  {
   "cell_type": "code",
   "execution_count": 33,
   "metadata": {},
   "outputs": [
    {
     "name": "stdout",
     "output_type": "stream",
     "text": [
      "[[0.         0.51167077 0.5052764  0.5077755 ]\n",
      " [0.49794695 0.         0.50844693 0.5105009 ]\n",
      " [0.50302935 0.5120807  0.         0.51244676]\n",
      " [0.5022304  0.51377845 0.51185155 0.        ]]\n"
     ]
    },
    {
     "name": "stderr",
     "output_type": "stream",
     "text": [
      "ERROR:root:Internal Python error in the inspect module.\n",
      "Below is the traceback from this internal error.\n",
      "\n"
     ]
    },
    {
     "name": "stdout",
     "output_type": "stream",
     "text": [
      "Traceback (most recent call last):\n",
      "  File \"C:\\Users\\user\\anaconda3\\envs\\tf2.0-gpu\\lib\\site-packages\\IPython\\core\\interactiveshell.py\", line 3331, in run_code\n",
      "    exec(code_obj, self.user_global_ns, self.user_ns)\n",
      "  File \"<ipython-input-33-8a349cac6645>\", line 3, in <module>\n",
      "    matrix = create_correlation_matrix(prob_of_sentences)\n",
      "  File \"<ipython-input-21-2f956eb8b73d>\", line 11, in create_correlation_matrix\n",
      "    correlation_matrix[i][j] = prob_of_sentences[index]\n",
      "  File \"C:\\Users\\user\\anaconda3\\envs\\tf2.0-gpu\\lib\\site-packages\\pandas\\core\\series.py\", line 871, in __getitem__\n",
      "    result = self.index.get_value(self, key)\n",
      "  File \"C:\\Users\\user\\anaconda3\\envs\\tf2.0-gpu\\lib\\site-packages\\pandas\\core\\indexes\\base.py\", line 4404, in get_value\n",
      "    return self._engine.get_value(s, k, tz=getattr(series.dtype, \"tz\", None))\n",
      "  File \"pandas\\_libs\\index.pyx\", line 80, in pandas._libs.index.IndexEngine.get_value\n",
      "  File \"pandas\\_libs\\index.pyx\", line 90, in pandas._libs.index.IndexEngine.get_value\n",
      "  File \"pandas\\_libs\\index.pyx\", line 138, in pandas._libs.index.IndexEngine.get_loc\n",
      "  File \"pandas\\_libs\\hashtable_class_helper.pxi\", line 998, in pandas._libs.hashtable.Int64HashTable.get_item\n",
      "  File \"pandas\\_libs\\hashtable_class_helper.pxi\", line 1005, in pandas._libs.hashtable.Int64HashTable.get_item\n",
      "KeyError: 1\n",
      "\n",
      "During handling of the above exception, another exception occurred:\n",
      "\n",
      "Traceback (most recent call last):\n",
      "  File \"C:\\Users\\user\\anaconda3\\envs\\tf2.0-gpu\\lib\\site-packages\\IPython\\core\\interactiveshell.py\", line 2044, in showtraceback\n",
      "    stb = value._render_traceback_()\n",
      "AttributeError: 'KeyError' object has no attribute '_render_traceback_'\n",
      "\n",
      "During handling of the above exception, another exception occurred:\n",
      "\n",
      "Traceback (most recent call last):\n",
      "  File \"C:\\Users\\user\\anaconda3\\envs\\tf2.0-gpu\\lib\\site-packages\\IPython\\core\\ultratb.py\", line 1148, in get_records\n",
      "    return _fixed_getinnerframes(etb, number_of_lines_of_context, tb_offset)\n",
      "  File \"C:\\Users\\user\\anaconda3\\envs\\tf2.0-gpu\\lib\\site-packages\\IPython\\core\\ultratb.py\", line 316, in wrapped\n",
      "    return f(*args, **kwargs)\n",
      "  File \"C:\\Users\\user\\anaconda3\\envs\\tf2.0-gpu\\lib\\site-packages\\IPython\\core\\ultratb.py\", line 350, in _fixed_getinnerframes\n",
      "    records = fix_frame_records_filenames(inspect.getinnerframes(etb, context))\n",
      "  File \"C:\\Users\\user\\anaconda3\\envs\\tf2.0-gpu\\lib\\inspect.py\", line 1502, in getinnerframes\n",
      "    frameinfo = (tb.tb_frame,) + getframeinfo(tb, context)\n",
      "  File \"C:\\Users\\user\\anaconda3\\envs\\tf2.0-gpu\\lib\\inspect.py\", line 1460, in getframeinfo\n",
      "    filename = getsourcefile(frame) or getfile(frame)\n",
      "  File \"C:\\Users\\user\\anaconda3\\envs\\tf2.0-gpu\\lib\\inspect.py\", line 696, in getsourcefile\n",
      "    if getattr(getmodule(object, filename), '__loader__', None) is not None:\n",
      "  File \"C:\\Users\\user\\anaconda3\\envs\\tf2.0-gpu\\lib\\inspect.py\", line 733, in getmodule\n",
      "    if ismodule(module) and hasattr(module, '__file__'):\n",
      "  File \"C:\\Users\\user\\AppData\\Roaming\\Python\\Python37\\site-packages\\tensorflow\\__init__.py\", line 50, in __getattr__\n",
      "    module = self._load()\n",
      "  File \"C:\\Users\\user\\AppData\\Roaming\\Python\\Python37\\site-packages\\tensorflow\\__init__.py\", line 44, in _load\n",
      "    module = _importlib.import_module(self.__name__)\n",
      "  File \"C:\\Users\\user\\anaconda3\\envs\\tf2.0-gpu\\lib\\importlib\\__init__.py\", line 127, in import_module\n",
      "    return _bootstrap._gcd_import(name[level:], package, level)\n",
      "  File \"<frozen importlib._bootstrap>\", line 1006, in _gcd_import\n",
      "  File \"<frozen importlib._bootstrap>\", line 983, in _find_and_load\n",
      "  File \"<frozen importlib._bootstrap>\", line 967, in _find_and_load_unlocked\n",
      "  File \"<frozen importlib._bootstrap>\", line 677, in _load_unlocked\n",
      "  File \"<frozen importlib._bootstrap_external>\", line 728, in exec_module\n",
      "  File \"<frozen importlib._bootstrap>\", line 219, in _call_with_frames_removed\n",
      "  File \"C:\\Users\\user\\AppData\\Roaming\\Python\\Python37\\site-packages\\tensorflow_core\\contrib\\__init__.py\", line 48, in <module>\n",
      "    from tensorflow.contrib import estimator\n",
      "  File \"C:\\Users\\user\\AppData\\Roaming\\Python\\Python37\\site-packages\\tensorflow_core\\contrib\\estimator\\__init__.py\", line 30, in <module>\n",
      "    from tensorflow_estimator.contrib import estimator\n",
      "ModuleNotFoundError: No module named 'tensorflow_estimator.contrib'\n"
     ]
    },
    {
     "ename": "KeyError",
     "evalue": "1",
     "output_type": "error",
     "traceback": [
      "\u001b[1;31m---------------------------------------------------------------------------\u001b[0m"
     ]
    }
   ],
   "source": [
    "with open('test_results_ordering_prob.tsv', 'wt', -1, \"utf-8\") as out_file:\n",
    "    for i in range(len(dataset)//16):  \n",
    "        prob_of_sentences=dataset.True_prob[i*16:i*16+16]\n",
    "        matrix = create_correlation_matrix(prob_of_sentences)\n",
    "        print(matrix)\n",
    "        tsv_writer = csv.writer(out_file, delimiter='\\t')\n",
    "        tsv_writer.writerow(['1-2', '2-3', '3-4'])\n",
    "    \n",
    "        prob_1_2 = matrix[0][1]\n",
    "        prob_2_3 = matrix[1][2]\n",
    "        prob_3_4 = matrix[2][3]\n",
    "        \n",
    "        tsv_writer.writerow([prob_1_2, prob_2_3, prob_3_4])"
   ]
  },
  {
   "cell_type": "code",
   "execution_count": null,
   "metadata": {},
   "outputs": [],
   "source": [
    "with open('test_results_ordering_prob.tsv', 'wt', -1, \"utf-8\") as out_file:\n",
    "    tsv_writer = csv.writer(out_file, delimiter='\\t')\n",
    "    tsv_writer.writerow(['1-2', '2-3', '3-4'])\n",
    "    \n",
    "    for i in range(len(dataset)):\n",
    "        prob_1_2 = dataset.True_prob[i*3]\n",
    "        prob_2_3 = dataset.True_prob[i*3+1]\n",
    "        prob_3_4 = dataset.True_prob[i*3+2]\n",
    "        \n",
    "        tsv_writer.writerow([prob_1_2, prob_2_3, prob_3_4])"
   ]
  }
 ],
 "metadata": {
  "kernelspec": {
   "display_name": "Python 3",
   "language": "python",
   "name": "python3"
  },
  "language_info": {
   "codemirror_mode": {
    "name": "ipython",
    "version": 3
   },
   "file_extension": ".py",
   "mimetype": "text/x-python",
   "name": "python",
   "nbconvert_exporter": "python",
   "pygments_lexer": "ipython3",
   "version": "3.7.7"
  }
 },
 "nbformat": 4,
 "nbformat_minor": 2
}
