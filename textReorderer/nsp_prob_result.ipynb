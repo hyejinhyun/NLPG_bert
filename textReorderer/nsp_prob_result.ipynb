{
 "cells": [
  {
   "cell_type": "code",
   "execution_count": 1,
   "metadata": {},
   "outputs": [],
   "source": [
    "import tensorflow as tf\n",
    "import numpy as np\n",
    "import csv\n",
    "\n",
    "import pandas as pd"
   ]
  },
  {
   "cell_type": "code",
   "execution_count": 7,
   "metadata": {},
   "outputs": [],
   "source": [
    "def create_correlation_matrix(prob_of_sentences):\n",
    "    num_sentences = 4\n",
    "    correlation_matrix = np.empty(shape=(num_sentences, num_sentences), dtype=float, order='C')\n",
    "    index=0\n",
    "    for i in range(num_sentences):\n",
    "        for j in range(num_sentences):\n",
    "            if i==j:\n",
    "                correlation_matrix[i][j]=0\n",
    "            else:\n",
    "                correlation_matrix[i][j] = prob_of_sentences[index]\n",
    "            index+=1\n",
    "    return correlation_matrix"
   ]
  },
  {
   "cell_type": "code",
   "execution_count": 11,
   "metadata": {},
   "outputs": [
    {
     "data": {
      "text/html": [
       "<div>\n",
       "<style scoped>\n",
       "    .dataframe tbody tr th:only-of-type {\n",
       "        vertical-align: middle;\n",
       "    }\n",
       "\n",
       "    .dataframe tbody tr th {\n",
       "        vertical-align: top;\n",
       "    }\n",
       "\n",
       "    .dataframe thead th {\n",
       "        text-align: right;\n",
       "    }\n",
       "</style>\n",
       "<table border=\"1\" class=\"dataframe\">\n",
       "  <thead>\n",
       "    <tr style=\"text-align: right;\">\n",
       "      <th></th>\n",
       "      <th>True_prob</th>\n",
       "      <th>False_prob</th>\n",
       "    </tr>\n",
       "  </thead>\n",
       "  <tbody>\n",
       "    <tr>\n",
       "      <th>0</th>\n",
       "      <td>0.510609</td>\n",
       "      <td>0.489391</td>\n",
       "    </tr>\n",
       "    <tr>\n",
       "      <th>1</th>\n",
       "      <td>0.511671</td>\n",
       "      <td>0.488329</td>\n",
       "    </tr>\n",
       "    <tr>\n",
       "      <th>2</th>\n",
       "      <td>0.505276</td>\n",
       "      <td>0.494724</td>\n",
       "    </tr>\n",
       "    <tr>\n",
       "      <th>3</th>\n",
       "      <td>0.507776</td>\n",
       "      <td>0.492225</td>\n",
       "    </tr>\n",
       "    <tr>\n",
       "      <th>4</th>\n",
       "      <td>0.497947</td>\n",
       "      <td>0.502053</td>\n",
       "    </tr>\n",
       "    <tr>\n",
       "      <th>...</th>\n",
       "      <td>...</td>\n",
       "      <td>...</td>\n",
       "    </tr>\n",
       "    <tr>\n",
       "      <th>75</th>\n",
       "      <td>0.512735</td>\n",
       "      <td>0.487265</td>\n",
       "    </tr>\n",
       "    <tr>\n",
       "      <th>76</th>\n",
       "      <td>0.508551</td>\n",
       "      <td>0.491449</td>\n",
       "    </tr>\n",
       "    <tr>\n",
       "      <th>77</th>\n",
       "      <td>0.508274</td>\n",
       "      <td>0.491726</td>\n",
       "    </tr>\n",
       "    <tr>\n",
       "      <th>78</th>\n",
       "      <td>0.511109</td>\n",
       "      <td>0.488890</td>\n",
       "    </tr>\n",
       "    <tr>\n",
       "      <th>79</th>\n",
       "      <td>0.516941</td>\n",
       "      <td>0.483059</td>\n",
       "    </tr>\n",
       "  </tbody>\n",
       "</table>\n",
       "<p>80 rows × 2 columns</p>\n",
       "</div>"
      ],
      "text/plain": [
       "    True_prob  False_prob\n",
       "0    0.510609    0.489391\n",
       "1    0.511671    0.488329\n",
       "2    0.505276    0.494724\n",
       "3    0.507776    0.492225\n",
       "4    0.497947    0.502053\n",
       "..        ...         ...\n",
       "75   0.512735    0.487265\n",
       "76   0.508551    0.491449\n",
       "77   0.508274    0.491726\n",
       "78   0.511109    0.488890\n",
       "79   0.516941    0.483059\n",
       "\n",
       "[80 rows x 2 columns]"
      ]
     },
     "execution_count": 11,
     "metadata": {},
     "output_type": "execute_result"
    }
   ],
   "source": [
    "dataset = pd.read_csv(\"test_results.tsv\", delimiter = '\\t')\n",
    "dataset"
   ]
  },
  {
   "cell_type": "code",
   "execution_count": 12,
   "metadata": {},
   "outputs": [],
   "source": [
    "probs = []\n",
    "for prob in dataset.True_prob:\n",
    "    probs.append(prob)"
   ]
  },
  {
   "cell_type": "code",
   "execution_count": 13,
   "metadata": {},
   "outputs": [
    {
     "data": {
      "text/plain": [
       "80"
      ]
     },
     "execution_count": 13,
     "metadata": {},
     "output_type": "execute_result"
    }
   ],
   "source": [
    "len(probs)"
   ]
  },
  {
   "cell_type": "code",
   "execution_count": 14,
   "metadata": {},
   "outputs": [
    {
     "name": "stdout",
     "output_type": "stream",
     "text": [
      "[[0.         0.51167077 0.5052764  0.5077755 ]\n",
      " [0.51060915 0.         0.5052764  0.5077755 ]\n",
      " [0.51060915 0.51167077 0.         0.5077755 ]\n",
      " [0.51060915 0.51167077 0.5052764  0.        ]]\n",
      "[[0.         0.51603055 0.51265126 0.5154321 ]\n",
      " [0.51989365 0.         0.51265126 0.5154321 ]\n",
      " [0.51989365 0.51603055 0.         0.5154321 ]\n",
      " [0.51989365 0.51603055 0.51265126 0.        ]]\n",
      "[[0.         0.52119523 0.53059506 0.5106899 ]\n",
      " [0.5174144  0.         0.53059506 0.5106899 ]\n",
      " [0.5174144  0.52119523 0.         0.5106899 ]\n",
      " [0.5174144  0.52119523 0.53059506 0.        ]]\n",
      "[[0.         0.50447714 0.5092094  0.51017064]\n",
      " [0.5097555  0.         0.5092094  0.51017064]\n",
      " [0.5097555  0.50447714 0.         0.51017064]\n",
      " [0.5097555  0.50447714 0.5092094  0.        ]]\n",
      "[[0.         0.51223916 0.5127419  0.5128507 ]\n",
      " [0.5153158  0.         0.5127419  0.5128507 ]\n",
      " [0.5153158  0.51223916 0.         0.5128507 ]\n",
      " [0.5153158  0.51223916 0.5127419  0.        ]]\n"
     ]
    }
   ],
   "source": [
    "for i in range(len(probs)//16):  \n",
    "    prob_of_sentences=probs[i*16:i*16+16]\n",
    "    matrix = create_correlation_matrix(prob_of_sentences)\n",
    "    print(matrix)"
   ]
  },
  {
   "cell_type": "code",
   "execution_count": 17,
   "metadata": {},
   "outputs": [
    {
     "name": "stdout",
     "output_type": "stream",
     "text": [
      "[[0.         0.51167077 0.5052764  0.5077755 ]\n",
      " [0.51060915 0.         0.5052764  0.5077755 ]\n",
      " [0.51060915 0.51167077 0.         0.5077755 ]\n",
      " [0.51060915 0.51167077 0.5052764  0.        ]]\n",
      "[[0.         0.51603055 0.51265126 0.5154321 ]\n",
      " [0.51989365 0.         0.51265126 0.5154321 ]\n",
      " [0.51989365 0.51603055 0.         0.5154321 ]\n",
      " [0.51989365 0.51603055 0.51265126 0.        ]]\n",
      "[[0.         0.52119523 0.53059506 0.5106899 ]\n",
      " [0.5174144  0.         0.53059506 0.5106899 ]\n",
      " [0.5174144  0.52119523 0.         0.5106899 ]\n",
      " [0.5174144  0.52119523 0.53059506 0.        ]]\n",
      "[[0.         0.50447714 0.5092094  0.51017064]\n",
      " [0.5097555  0.         0.5092094  0.51017064]\n",
      " [0.5097555  0.50447714 0.         0.51017064]\n",
      " [0.5097555  0.50447714 0.5092094  0.        ]]\n",
      "[[0.         0.51223916 0.5127419  0.5128507 ]\n",
      " [0.5153158  0.         0.5127419  0.5128507 ]\n",
      " [0.5153158  0.51223916 0.         0.5128507 ]\n",
      " [0.5153158  0.51223916 0.5127419  0.        ]]\n"
     ]
    }
   ],
   "source": [
    "with open('test_results_ordering_prob.tsv', 'wt', -1, \"utf-8\") as out_file:\n",
    "    tsv_writer = csv.writer(out_file, delimiter='\\t')\n",
    "    tsv_writer.writerow(['1-2', '2-3', '3-4'])\n",
    "    for i in range(len(probs)//16):  \n",
    "        prob_of_sentences=probs[i*16:i*16+16]\n",
    "        matrix = create_correlation_matrix(prob_of_sentences)\n",
    "        print(matrix)\n",
    "    \n",
    "        prob_1_2 = matrix[0][1]\n",
    "        prob_2_3 = matrix[1][2]\n",
    "        prob_3_4 = matrix[2][3]\n",
    "        \n",
    "        tsv_writer.writerow([prob_1_2, prob_2_3, prob_3_4])"
   ]
  },
  {
   "cell_type": "code",
   "execution_count": null,
   "metadata": {},
   "outputs": [],
   "source": []
  }
 ],
 "metadata": {
  "kernelspec": {
   "display_name": "TensorFlow-GPU",
   "language": "python",
   "name": "tf2.0-gpu"
  },
  "language_info": {
   "codemirror_mode": {
    "name": "ipython",
    "version": 3
   },
   "file_extension": ".py",
   "mimetype": "text/x-python",
   "name": "python",
   "nbconvert_exporter": "python",
   "pygments_lexer": "ipython3",
   "version": "3.7.7"
  }
 },
 "nbformat": 4,
 "nbformat_minor": 4
}
